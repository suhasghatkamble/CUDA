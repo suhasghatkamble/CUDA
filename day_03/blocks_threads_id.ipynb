{
  "nbformat": 4,
  "nbformat_minor": 0,
  "metadata": {
    "colab": {
      "provenance": [],
      "gpuType": "T4"
    },
    "kernelspec": {
      "name": "python3",
      "display_name": "Python 3"
    },
    "language_info": {
      "name": "python"
    },
    "accelerator": "GPU"
  },
  "cells": [
    {
      "cell_type": "code",
      "execution_count": null,
      "metadata": {
        "colab": {
          "base_uri": "https://localhost:8080/"
        },
        "id": "Kx2fg5FAGHfd",
        "outputId": "4a7114d8-0a4e-41a9-b357-bab7c2c00e6c"
      },
      "outputs": [
        {
          "output_type": "stream",
          "name": "stdout",
          "text": [
            "Overwriting prog.cu\n"
          ]
        }
      ],
      "source": [
        "%%writefile prog.cu\n",
        "#include <stdio.h>\n",
        "#include <cuda_runtime.h>\n",
        "\n",
        "__global__ void printThreadInfo() {\n",
        "    int threadID = blockIdx.x * blockDim.x + threadIdx.x;\n",
        "    printf(\"ThreadIdx: %d, BlockId: %d, BlockDim: %d, Effective Thread ID: %d\\n\", threadIdx.x, blockIdx.x, blockDim.x, threadID);\n",
        "\n",
        "}\n",
        "\n",
        "int main() {\n",
        "    int numBlocks = 3;\n",
        "    int threadsPerBlock = 4;\n",
        "\n",
        "    printThreadInfo<<<numBlocks, threadsPerBlock>>>();\n",
        "    //or printThreadInfo<<<3, 4>>>();\n",
        "    cudaDeviceSynchronize();\n",
        "\n",
        "    return 0;\n",
        "}"
      ]
    },
    {
      "cell_type": "code",
      "source": [
        "!nvcc prog.cu\n",
        "!./a.out"
      ],
      "metadata": {
        "colab": {
          "base_uri": "https://localhost:8080/"
        },
        "id": "klkQM5BeGshL",
        "outputId": "b9801b10-04a9-4613-980e-a8d1bdbb003d"
      },
      "execution_count": null,
      "outputs": [
        {
          "output_type": "stream",
          "name": "stdout",
          "text": [
            "ThreadIdx: 0, BlockId: 2, BlockDim: 4, Effective Thread ID: 8\n",
            "ThreadIdx: 1, BlockId: 2, BlockDim: 4, Effective Thread ID: 9\n",
            "ThreadIdx: 2, BlockId: 2, BlockDim: 4, Effective Thread ID: 10\n",
            "ThreadIdx: 3, BlockId: 2, BlockDim: 4, Effective Thread ID: 11\n",
            "ThreadIdx: 0, BlockId: 0, BlockDim: 4, Effective Thread ID: 0\n",
            "ThreadIdx: 1, BlockId: 0, BlockDim: 4, Effective Thread ID: 1\n",
            "ThreadIdx: 2, BlockId: 0, BlockDim: 4, Effective Thread ID: 2\n",
            "ThreadIdx: 3, BlockId: 0, BlockDim: 4, Effective Thread ID: 3\n",
            "ThreadIdx: 0, BlockId: 1, BlockDim: 4, Effective Thread ID: 4\n",
            "ThreadIdx: 1, BlockId: 1, BlockDim: 4, Effective Thread ID: 5\n",
            "ThreadIdx: 2, BlockId: 1, BlockDim: 4, Effective Thread ID: 6\n",
            "ThreadIdx: 3, BlockId: 1, BlockDim: 4, Effective Thread ID: 7\n"
          ]
        }
      ]
    }
  ]
}