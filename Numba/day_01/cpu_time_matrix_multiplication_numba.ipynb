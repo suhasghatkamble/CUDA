{
  "nbformat": 4,
  "nbformat_minor": 0,
  "metadata": {
    "colab": {
      "provenance": []
    },
    "kernelspec": {
      "name": "python3",
      "display_name": "Python 3"
    },
    "language_info": {
      "name": "python"
    }
  },
  "cells": [
    {
      "cell_type": "code",
      "source": [
        "# Change runtime in CPU\n",
        "import numpy as np\n",
        "import time\n",
        "\n",
        "N = 4000 # Size of the square matrices\n",
        "\n",
        "def initialize_matrix(rows, cols):\n",
        "  return np.random.randint(0, 10, size=(rows, cols))\n",
        "\n",
        "def matrix_multiply(A, B):\n",
        "  return np.dot(A, B)\n",
        "\n",
        "A = initialize_matrix(N, N)\n",
        "B = initialize_matrix(N, N)\n",
        "\n",
        "start_time = time.time()\n",
        "C = matrix_multiply(A, B)\n",
        "end_time = time.time()\n",
        "\n",
        "cpu_duration_ms = (end_time - start_time) * 1000\n",
        "print(\"Time taken by CPU:\", cpu_duration_ms, \"milliseconds\")"
      ],
      "metadata": {
        "colab": {
          "base_uri": "https://localhost:8080/"
        },
        "id": "ErWoNsQjHI-1",
        "outputId": "5b77fbba-827a-49bf-a05a-8d7434a0b75e"
      },
      "execution_count": 1,
      "outputs": [
        {
          "output_type": "stream",
          "name": "stdout",
          "text": [
            "Time taken by CPU: 275126.2390613556 milliseconds\n"
          ]
        }
      ]
    }
  ]
}