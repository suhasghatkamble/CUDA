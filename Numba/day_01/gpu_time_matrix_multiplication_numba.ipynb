{
  "nbformat": 4,
  "nbformat_minor": 0,
  "metadata": {
    "colab": {
      "provenance": [],
      "gpuType": "T4"
    },
    "kernelspec": {
      "name": "python3",
      "display_name": "Python 3"
    },
    "language_info": {
      "name": "python"
    },
    "accelerator": "GPU"
  },
  "cells": [
    {
      "cell_type": "code",
      "execution_count": 4,
      "metadata": {
        "colab": {
          "base_uri": "https://localhost:8080/"
        },
        "id": "6mF_0EgtNabb",
        "outputId": "1a3f1add-4494-46c5-8a33-0a1eee001870"
      },
      "outputs": [
        {
          "output_type": "stream",
          "name": "stdout",
          "text": [
            "Time taken by GPU: 99.55430030822754 milliseconds\n"
          ]
        }
      ],
      "source": [
        "from numba import cuda, float32\n",
        "import numpy as np\n",
        "import time\n",
        "\n",
        "@cuda.jit\n",
        "def initialize_matrix(matrix, random_values):\n",
        "  i, j = cuda.grid(2)\n",
        "  if i < matrix.shape[0] and j < matrix.shape[1]:\n",
        "    matrix[i, j] = random_values[i, j]\n",
        "\n",
        "def main():\n",
        "  N = 4000\n",
        "  random_values_cpu = np.random.rand(N, N).astype(np.float32)\n",
        "\n",
        "  matrix_gpu = cuda.device_array((N, N), dtype=np.float32)\n",
        "  random_values_gpu = cuda.to_device(random_values_cpu)\n",
        "\n",
        "  threads_per_block = (16, 16)\n",
        "  blocks = ((N + threads_per_block[0] - 1) // threads_per_block[0],\n",
        "            (N + threads_per_block[1] - 1) // threads_per_block[1])\n",
        "\n",
        "  start_time = time.time()\n",
        "  initialize_matrix[blocks, threads_per_block](matrix_gpu, random_values_gpu)\n",
        "  cuda.synchronize()\n",
        "  end_time = time.time()\n",
        "\n",
        "  elapsed_time = (end_time - start_time) * 1000\n",
        "  print(\"Time taken by GPU:\", elapsed_time, \"milliseconds\")\n",
        "\n",
        "  matrix_result = matrix_gpu.copy_to_host()\n",
        "\n",
        "if __name__ == \"__main__\":\n",
        "  main()\n",
        "\n",
        ""
      ]
    }
  ]
}