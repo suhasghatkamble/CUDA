{
  "nbformat": 4,
  "nbformat_minor": 0,
  "metadata": {
    "colab": {
      "provenance": [],
      "gpuType": "T4"
    },
    "kernelspec": {
      "name": "python3",
      "display_name": "Python 3"
    },
    "language_info": {
      "name": "python"
    },
    "accelerator": "GPU"
  },
  "cells": [
    {
      "cell_type": "code",
      "source": [
        "%%writefile array_addition_numba.py\n",
        "import numpy as np\n",
        "from numba import cuda\n",
        "import hashlib\n",
        "\n",
        "@cuda.jit\n",
        "def add_array(a, b, c):\n",
        "  i = cuda.threadIdx.x + cuda.blockDim.x * cuda.blockIdx.x\n",
        "  if i < a.size:\n",
        "    c[i] = a[i] + b[i]\n",
        "\n",
        "N = 20\n",
        "a = np.arange(N, dtype=np.float32)\n",
        "b = np.arange(N, dtype=np.float32)\n",
        "\n",
        "# Allocate a device array (dev_C) on the GPU using cuda.device_array_like:\n",
        "dev_c = cuda.device_array_like(a)\n",
        "\n",
        "add_array[4, 8](a, b, dev_c)\n",
        "\n",
        "# Copy the result (dev_c) back to the host and print it:\n",
        "c = dev_c.copy_to_host()\n",
        "\n",
        "print(c)\n"
      ],
      "metadata": {
        "colab": {
          "base_uri": "https://localhost:8080/"
        },
        "id": "5siNv3s5CbWi",
        "outputId": "f547a3a2-6a76-415a-aca1-4d301f1d0e65"
      },
      "execution_count": 4,
      "outputs": [
        {
          "output_type": "stream",
          "name": "stdout",
          "text": [
            "Writing array_addition_numba.py\n"
          ]
        }
      ]
    },
    {
      "cell_type": "code",
      "source": [
        "!python array_addition_numba.py"
      ],
      "metadata": {
        "colab": {
          "base_uri": "https://localhost:8080/"
        },
        "id": "pmqMiQNTDeO7",
        "outputId": "fc9b1fb3-c90b-405a-92ef-aeb40e54085e"
      },
      "execution_count": 5,
      "outputs": [
        {
          "output_type": "stream",
          "name": "stdout",
          "text": [
            "/usr/local/lib/python3.10/dist-packages/numba/cuda/dispatcher.py:536: NumbaPerformanceWarning: Grid size 4 will likely result in GPU under-utilization due to low occupancy.\n",
            "  warn(NumbaPerformanceWarning(msg))\n",
            "/usr/local/lib/python3.10/dist-packages/numba/cuda/cudadrv/devicearray.py:886: NumbaPerformanceWarning: Host array used in CUDA kernel will incur copy overhead to/from device.\n",
            "  warn(NumbaPerformanceWarning(msg))\n",
            "[ 0.  2.  4.  6.  8. 10. 12. 14. 16. 18. 20. 22. 24. 26. 28. 30. 32. 34.\n",
            " 36. 38.]\n"
          ]
        }
      ]
    },
    {
      "cell_type": "code",
      "source": [
        "import numpy as np\n",
        "from numba import cuda\n",
        "import hashlib\n",
        "\n",
        "@cuda.jit\n",
        "def add_array(a, b, c):\n",
        "  i = cuda.threadIdx.x + cuda.blockDim.x * cuda.blockIdx.x\n",
        "  if i < a.size:\n",
        "    c[i] = a[i] + b[i]\n",
        "\n",
        "N = 20\n",
        "a = np.arange(N, dtype=np.float32)\n",
        "b = np.arange(N, dtype=np.float32)\n",
        "\n",
        "# Allocate a device array (dev_C) on the GPU using cuda.device_array_like:\n",
        "dev_a = cuda.to_device(a)\n",
        "dev_b = cuda.to_device(b)\n",
        "dev_c = cuda.device_array_like(a)\n",
        "\n",
        "\n",
        "\n",
        "add_array[4, 8](dev_a, dev_b, dev_c)\n",
        "\n",
        "# Copy the result (dev_c) back to the host and print it:\n",
        "c = dev_c.copy_to_host()\n",
        "\n",
        "print(c)\n"
      ],
      "metadata": {
        "colab": {
          "base_uri": "https://localhost:8080/"
        },
        "id": "2fQgPijSF3bn",
        "outputId": "507a3589-7baa-4464-d08a-ab4512b291dd"
      },
      "execution_count": 6,
      "outputs": [
        {
          "output_type": "stream",
          "name": "stdout",
          "text": [
            "[ 0.  2.  4.  6.  8. 10. 12. 14. 16. 18. 20. 22. 24. 26. 28. 30. 32. 34.\n",
            " 36. 38.]\n"
          ]
        },
        {
          "output_type": "stream",
          "name": "stderr",
          "text": [
            "/usr/local/lib/python3.10/dist-packages/numba/cuda/dispatcher.py:536: NumbaPerformanceWarning: Grid size 4 will likely result in GPU under-utilization due to low occupancy.\n",
            "  warn(NumbaPerformanceWarning(msg))\n"
          ]
        }
      ]
    }
  ]
}